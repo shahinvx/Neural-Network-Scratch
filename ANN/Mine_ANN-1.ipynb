{
 "cells": [
  {
   "cell_type": "markdown",
   "metadata": {},
   "source": [
    "# My first Neural Net"
   ]
  },
  {
   "cell_type": "code",
   "execution_count": 2,
   "metadata": {},
   "outputs": [],
   "source": [
    "import numpy as np"
   ]
  },
  {
   "cell_type": "code",
   "execution_count": 15,
   "metadata": {},
   "outputs": [
    {
     "name": "stdout",
     "output_type": "stream",
     "text": [
      "Input \n",
      " [[0 0 1]\n",
      " [0 1 1]\n",
      " [1 0 1]\n",
      " [1 1 1]]\n",
      "Output \n",
      " [[0]\n",
      " [0]\n",
      " [1]\n",
      " [1]]\n",
      "Weight \n",
      " [[-0.16595599]\n",
      " [ 0.44064899]\n",
      " [-0.99977125]]\n",
      "Output after train \n",
      " [[0.00966449]\n",
      " [0.00786506]\n",
      " [0.99358898]\n",
      " [0.99211957]]\n"
     ]
    }
   ],
   "source": [
    "inp = np.array([[0,0,1],\n",
    "                [0,1,1],\n",
    "                [1,0,1],\n",
    "                [1,1,1]])\n",
    "print(\"Input \\n\",inp)\n",
    "\n",
    "out = np.array([[0,0,1,1]]).T\n",
    "print(\"Output \\n\",out)\n",
    "\n",
    "np.random.seed(1)\n",
    "weight = 2*np.random.random((3,1)) - 1\n",
    "print(\"Weight \\n\",weight)\n",
    "\n",
    "def sigmoid(inp):\n",
    "    return 1/(1+np.exp(-inp))\n",
    "def change(inp):\n",
    "    return inp*(1-inp)\n",
    "\n",
    "for i in range(10000):\n",
    "    inp0 = inp\n",
    "    out0 = sigmoid(np.dot(inp0,weight))\n",
    "    \n",
    "    err0 = out - out0\n",
    "    \n",
    "    err0_chng = err0 * change(out0)\n",
    "    \n",
    "    weight += np.dot(inp0.T , err0_chng)\n",
    "\n",
    "print(\"Output after train \\n\",out0)"
   ]
  },
  {
   "cell_type": "code",
   "execution_count": null,
   "metadata": {},
   "outputs": [],
   "source": []
  }
 ],
 "metadata": {
  "kernelspec": {
   "display_name": "Python 3",
   "language": "python",
   "name": "python3"
  },
  "language_info": {
   "codemirror_mode": {
    "name": "ipython",
    "version": 3
   },
   "file_extension": ".py",
   "mimetype": "text/x-python",
   "name": "python",
   "nbconvert_exporter": "python",
   "pygments_lexer": "ipython3",
   "version": "3.6.5"
  }
 },
 "nbformat": 4,
 "nbformat_minor": 4
}
