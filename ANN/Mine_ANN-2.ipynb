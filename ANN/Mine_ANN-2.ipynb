{
 "cells": [
  {
   "cell_type": "markdown",
   "metadata": {},
   "source": [
    "# Multi layer Neural Network"
   ]
  },
  {
   "cell_type": "code",
   "execution_count": 1,
   "metadata": {},
   "outputs": [],
   "source": [
    "import numpy as np"
   ]
  },
  {
   "cell_type": "code",
   "execution_count": 30,
   "metadata": {},
   "outputs": [
    {
     "name": "stdout",
     "output_type": "stream",
     "text": [
      "Input \n",
      " [[0 0 1]\n",
      " [0 1 1]\n",
      " [1 0 1]\n",
      " [1 1 1]]\n",
      "Output \n",
      " [[0]\n",
      " [0]\n",
      " [1]\n",
      " [1]]\n",
      "Weight0 \n",
      " [[-0.16595599  0.44064899 -0.99977125 -0.39533485]\n",
      " [-0.70648822 -0.81532281 -0.62747958 -0.30887855]\n",
      " [-0.20646505  0.07763347 -0.16161097  0.370439  ]]\n",
      "Weight1 \n",
      " [[-0.5910955 ]\n",
      " [ 0.75623487]\n",
      " [-0.94522481]\n",
      " [ 0.34093502]]\n",
      "Error :  0.4685343254580603\n",
      "Error :  0.006324468286497185\n",
      "Error :  0.004277387928277676\n",
      "Error :  0.003428985161420145\n",
      "Error :  0.0029426366796411517\n",
      "Error :  0.0026190602773365473\n",
      "Output after train \n",
      " [[0.00220195]\n",
      " [0.00228474]\n",
      " [0.99747733]\n",
      " [0.99747175]]\n",
      "Weight after train \n",
      " [[-5.01752326]\n",
      " [ 4.48402405]\n",
      " [-8.42509159]\n",
      " [ 1.53926461]]\n"
     ]
    },
    {
     "name": "stdin",
     "output_type": "stream",
     "text": [
      "Enter First number:  0\n",
      "Enter Second number:  1\n",
      "Enter Third number:  0\n",
      "Enter Fourth number:  1\n"
     ]
    },
    {
     "name": "stdout",
     "output_type": "stream",
     "text": [
      "[0. 1. 0. 1.]\n",
      "Query Output :  [0.99758416]\n"
     ]
    }
   ],
   "source": [
    "inp = np.array([[0,0,1],\n",
    "                [0,1,1],\n",
    "                [1,0,1],\n",
    "                [1,1,1]])\n",
    "print(\"Input \\n\",inp)\n",
    "\n",
    "out = np.array([[0,0,1,1]]).T\n",
    "print(\"Output \\n\",out)\n",
    "\n",
    "np.random.seed(1)\n",
    "weight0 = 2*np.random.random((3,4)) - 1\n",
    "weight1 = 2*np.random.random((4,1)) - 1\n",
    "print(\"Weight0 \\n\",weight0)\n",
    "print(\"Weight1 \\n\",weight1)\n",
    "\n",
    "def sigmoid(inp):\n",
    "    return 1/(1+np.exp(-inp))\n",
    "def change(inp):\n",
    "    return inp*(1-inp)\n",
    "\n",
    "for i in range(60000):\n",
    "    inp0 = inp\n",
    "    out0 = sigmoid(np.dot(inp0,weight0))\n",
    "    out1 = sigmoid(np.dot(out0,weight1))\n",
    "    \n",
    "    err1 = out - out1\n",
    "    \n",
    "    if(i%10000) == 0:\n",
    "        print(\"Error : \",str(np.mean(np.abs(err1))))\n",
    "    \n",
    "    err1_chng = err1 * change(out1)\n",
    "    \n",
    "    err0 = err1_chng.dot(weight1.T)\n",
    "    \n",
    "    err0_chng = err0 * sigmoid(out0)\n",
    "    \n",
    "    weight1 += np.dot(out0.T , err1_chng)\n",
    "    weight0 += np.dot(inp0.T , err0_chng)\n",
    "\n",
    "print(\"Output after train \\n\",out1)\n",
    "print(\"Weight after train \\n\",weight1)\n",
    "a = float(input(\"Enter First number: \"))\n",
    "b = float(input(\"Enter Second number: \"))\n",
    "c = float(input(\"Enter Third number: \"))\n",
    "d = float(input(\"Enter Fourth number: \"))\n",
    "arr = np.array([a,b,c,d])\n",
    "brr = arr\n",
    "print(brr.T)\n",
    "My_out = sigmoid(np.dot(arr,weight1))\n",
    "print(\"Query Output : \",My_out)"
   ]
  }
 ],
 "metadata": {
  "kernelspec": {
   "display_name": "Python 3",
   "language": "python",
   "name": "python3"
  },
  "language_info": {
   "codemirror_mode": {
    "name": "ipython",
    "version": 3
   },
   "file_extension": ".py",
   "mimetype": "text/x-python",
   "name": "python",
   "nbconvert_exporter": "python",
   "pygments_lexer": "ipython3",
   "version": "3.6.5"
  }
 },
 "nbformat": 4,
 "nbformat_minor": 4
}
