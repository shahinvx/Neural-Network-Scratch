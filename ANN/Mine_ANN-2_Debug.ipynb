{
 "cells": [
  {
   "cell_type": "markdown",
   "metadata": {},
   "source": [
    "# Multi layer Neural Network"
   ]
  },
  {
   "cell_type": "code",
   "execution_count": 2,
   "metadata": {},
   "outputs": [],
   "source": [
    "import numpy as np"
   ]
  },
  {
   "cell_type": "code",
   "execution_count": 5,
   "metadata": {},
   "outputs": [
    {
     "name": "stdout",
     "output_type": "stream",
     "text": [
      "Input \n",
      " [[0 0 1]\n",
      " [0 1 1]\n",
      " [1 0 1]\n",
      " [1 1 1]]\n",
      "Output \n",
      " [[0]\n",
      " [0]\n",
      " [1]\n",
      " [1]]\n",
      "Weight0 \n",
      " [[-0.16595599  0.44064899 -0.99977125 -0.39533485]\n",
      " [-0.70648822 -0.81532281 -0.62747958 -0.30887855]\n",
      " [-0.20646505  0.07763347 -0.16161097  0.370439  ]]\n",
      "Weight1 \n",
      " [[-0.5910955 ]\n",
      " [ 0.75623487]\n",
      " [-0.94522481]\n",
      " [ 0.34093502]]\n",
      "out0 \n",
      " [[0.44856632 0.51939863 0.45968497 0.59156505]\n",
      " [0.28639589 0.32350963 0.31236398 0.51538526]\n",
      " [0.40795614 0.62674606 0.23841622 0.49377636]\n",
      " [0.25371248 0.42628115 0.14321233 0.41732254]] \n",
      "out1 \n",
      " [[0.47372957]\n",
      " [0.48895696]\n",
      " [0.54384086]\n",
      " [0.54470837]]\n",
      "Error :  0.4685343254580603\n",
      "Error0 \n",
      " [[ 0.0698116  -0.08931546  0.11163621 -0.04026629]\n",
      " [ 0.07221982 -0.09239648  0.1154872  -0.04165531]\n",
      " [-0.06689016  0.08557784 -0.10696451  0.03858124]\n",
      " [-0.06674228  0.08538864 -0.10672803  0.03849595]] \n",
      "Error1 \n",
      " [[-0.47372957]\n",
      " [-0.48895696]\n",
      " [ 0.45615914]\n",
      " [ 0.45529163]]\n",
      "out0 \n",
      " [[0.45007457 0.51885601 0.46418602 0.59039665]\n",
      " [0.28839461 0.32260834 0.3183271  0.51346043]\n",
      " [0.39076888 0.65102396 0.2209258  0.50435895]\n",
      " [0.2410547  0.45171908 0.13259022 0.42694797]] \n",
      "out1 \n",
      " [[0.46303712]\n",
      " [0.47969162]\n",
      " [0.55112846]\n",
      " [0.55110105]]\n",
      "Error0 \n",
      " [[ 0.06956556 -0.0891566   0.11449693 -0.03581552]\n",
      " [ 0.07234416 -0.09271771  0.11907019 -0.03724607]\n",
      " [-0.0670989   0.08599528 -0.11043709  0.03454557]\n",
      " [-0.06710375  0.0860015  -0.11044509  0.03454807]] \n",
      "Error1 \n",
      " [[-0.46303712]\n",
      " [-0.47969162]\n",
      " [ 0.44887154]\n",
      " [ 0.44889895]]\n",
      "Output after train \n",
      " [[0.46303712]\n",
      " [0.47969162]\n",
      " [0.55112846]\n",
      " [0.55110105]]\n",
      "Weight after train \n",
      " [[-0.62043359]\n",
      " [ 0.79852059]\n",
      " [-1.04682505]\n",
      " [ 0.28507216]]\n"
     ]
    },
    {
     "name": "stdin",
     "output_type": "stream",
     "text": [
      "Enter First number:  1\n",
      "Enter Second number:  0\n",
      "Enter Third number:  1\n",
      "Enter Fourth number:  0\n"
     ]
    },
    {
     "name": "stdout",
     "output_type": "stream",
     "text": [
      "[1. 0. 1. 0.]\n",
      "Query Output :  [0.15879001]\n"
     ]
    }
   ],
   "source": [
    "inp = np.array([[0,0,1],\n",
    "                [0,1,1],\n",
    "                [1,0,1],\n",
    "                [1,1,1]])\n",
    "print(\"Input \\n\",inp)\n",
    "\n",
    "out = np.array([[0,0,1,1]]).T\n",
    "print(\"Output \\n\",out)\n",
    "\n",
    "np.random.seed(1)\n",
    "weight0 = 2*np.random.random((3,4)) - 1\n",
    "weight1 = 2*np.random.random((4,1)) - 1\n",
    "print(\"Weight0 \\n\",weight0)\n",
    "print(\"Weight1 \\n\",weight1)\n",
    "\n",
    "def sigmoid(inp):\n",
    "    return 1/(1+np.exp(-inp))\n",
    "def change(inp):\n",
    "    return inp*(1-inp)\n",
    "\n",
    "for i in range(2):\n",
    "    inp0 = inp\n",
    "    out0 = sigmoid(np.dot(inp0,weight0))  # inp dot w (inp(4,3)*w(3,4)) = 4 rows 4 column\n",
    "    out1 = sigmoid(np.dot(out0,weight1))\n",
    "    \n",
    "    print(\"out0 \\n\",out0,\"\\nout1 \\n\",out1)\n",
    "    \n",
    "    err1 = out - out1\n",
    "    \n",
    "    if(i%10000) == 0:\n",
    "        print(\"Error : \",str(np.mean(np.abs(err1))))\n",
    "    \n",
    "    err1_chng = err1 * change(out1)\n",
    "    \n",
    "    err0 = err1_chng.dot(weight1.T)\n",
    "    \n",
    "    print(\"Error0 \\n\",err0,\"\\nError1 \\n\",err1)\n",
    "    \n",
    "    err0_chng = err0 * sigmoid(out0)\n",
    "    \n",
    "    weight1 += np.dot(out0.T , err1_chng)\n",
    "    weight0 += np.dot(inp0.T , err0_chng)\n",
    "\n",
    "print(\"Output after train \\n\",out1)\n",
    "print(\"Weight after train \\n\",weight1)\n",
    "a = float(input(\"Enter First number: \"))\n",
    "b = float(input(\"Enter Second number: \"))\n",
    "c = float(input(\"Enter Third number: \"))\n",
    "d = float(input(\"Enter Fourth number: \"))\n",
    "arr = np.array([a,b,c,d])\n",
    "brr = arr\n",
    "print(brr.T)\n",
    "My_out = sigmoid(np.dot(arr,weight1))\n",
    "print(\"Query Output : \",My_out)"
   ]
  },
  {
   "cell_type": "code",
   "execution_count": null,
   "metadata": {},
   "outputs": [],
   "source": [
    "print(\"Shahin\")"
   ]
  }
 ],
 "metadata": {
  "kernelspec": {
   "display_name": "Python 3",
   "language": "python",
   "name": "python3"
  },
  "language_info": {
   "codemirror_mode": {
    "name": "ipython",
    "version": 3
   },
   "file_extension": ".py",
   "mimetype": "text/x-python",
   "name": "python",
   "nbconvert_exporter": "python",
   "pygments_lexer": "ipython3",
   "version": "3.6.5"
  }
 },
 "nbformat": 4,
 "nbformat_minor": 4
}
